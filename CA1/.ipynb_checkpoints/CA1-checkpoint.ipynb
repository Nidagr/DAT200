{
 "cells": [
  {
   "cell_type": "markdown",
   "metadata": {},
   "source": [
    "# Compulsory Assignment 1 - Pandas and visualizations"
   ]
  },
  {
   "cell_type": "markdown",
   "metadata": {},
   "source": [
    "Nida Grønbekk"
   ]
  },
  {
   "cell_type": "markdown",
   "metadata": {},
   "source": [
    "## Imports"
   ]
  },
  {
   "cell_type": "code",
   "execution_count": 1,
   "metadata": {
    "ExecuteTime": {
     "end_time": "2021-01-05T08:54:36.690269Z",
     "start_time": "2021-01-05T08:54:35.984178Z"
    }
   },
   "outputs": [],
   "source": [
    "import pandas as pd\n",
    "import numpy as np\n",
    "import seaborn as sns\n",
    "from matplotlib import pyplot as plt\n",
    "from copy import copy"
   ]
  },
  {
   "cell_type": "markdown",
   "metadata": {},
   "source": [
    "---\n",
    "## Loading and exploring the dataset"
   ]
  },
  {
   "cell_type": "markdown",
   "metadata": {},
   "source": [
    "__1. Load the dataset named `videogames.csv` and store it in a dataframe called `raw_df`__"
   ]
  },
  {
   "cell_type": "code",
   "execution_count": 3,
   "metadata": {
    "ExecuteTime": {
     "end_time": "2021-01-07T12:50:22.322751Z",
     "start_time": "2021-01-07T12:50:22.320295Z"
    }
   },
   "outputs": [],
   "source": [
    "# Insert your code below\n",
    "# ======================\n",
    "raw_df = pd.read_csv('videogames.csv')"
   ]
  },
  {
   "cell_type": "markdown",
   "metadata": {},
   "source": [
    "__2. Print the first `five` rows of the dataframe__"
   ]
  },
  {
   "cell_type": "code",
   "execution_count": 4,
   "metadata": {
    "ExecuteTime": {
     "end_time": "2021-01-07T12:50:23.855936Z",
     "start_time": "2021-01-07T12:50:23.852994Z"
    }
   },
   "outputs": [
    {
     "data": {
      "text/html": [
       "<div>\n",
       "<style scoped>\n",
       "    .dataframe tbody tr th:only-of-type {\n",
       "        vertical-align: middle;\n",
       "    }\n",
       "\n",
       "    .dataframe tbody tr th {\n",
       "        vertical-align: top;\n",
       "    }\n",
       "\n",
       "    .dataframe thead th {\n",
       "        text-align: right;\n",
       "    }\n",
       "</style>\n",
       "<table border=\"1\" class=\"dataframe\">\n",
       "  <thead>\n",
       "    <tr style=\"text-align: right;\">\n",
       "      <th></th>\n",
       "      <th>name</th>\n",
       "      <th>platform</th>\n",
       "      <th>year</th>\n",
       "      <th>genre</th>\n",
       "      <th>publisher</th>\n",
       "      <th>north_america_sales</th>\n",
       "      <th>europe_sales</th>\n",
       "      <th>japan_sales</th>\n",
       "      <th>global_sales</th>\n",
       "    </tr>\n",
       "  </thead>\n",
       "  <tbody>\n",
       "    <tr>\n",
       "      <th>0</th>\n",
       "      <td>Imagine: Fashion Stylist</td>\n",
       "      <td>DS</td>\n",
       "      <td>2010.0</td>\n",
       "      <td>Simulation</td>\n",
       "      <td>Ubisoft</td>\n",
       "      <td>0.13</td>\n",
       "      <td>0.00</td>\n",
       "      <td>0.00</td>\n",
       "      <td>0.14</td>\n",
       "    </tr>\n",
       "    <tr>\n",
       "      <th>1</th>\n",
       "      <td>Monsters vs. Aliens</td>\n",
       "      <td>Wii</td>\n",
       "      <td>2009.0</td>\n",
       "      <td>Action</td>\n",
       "      <td>Activision</td>\n",
       "      <td>0.14</td>\n",
       "      <td>0.09</td>\n",
       "      <td>0.00</td>\n",
       "      <td>0.26</td>\n",
       "    </tr>\n",
       "    <tr>\n",
       "      <th>2</th>\n",
       "      <td>LEGO Racers</td>\n",
       "      <td>PS</td>\n",
       "      <td>1999.0</td>\n",
       "      <td>Racing</td>\n",
       "      <td>LEGO Media</td>\n",
       "      <td>0.20</td>\n",
       "      <td>0.14</td>\n",
       "      <td>0.00</td>\n",
       "      <td>0.36</td>\n",
       "    </tr>\n",
       "    <tr>\n",
       "      <th>3</th>\n",
       "      <td>The X-Factor</td>\n",
       "      <td>PS3</td>\n",
       "      <td>2010.0</td>\n",
       "      <td>Misc</td>\n",
       "      <td>Deep Silver</td>\n",
       "      <td>0.00</td>\n",
       "      <td>0.10</td>\n",
       "      <td>0.00</td>\n",
       "      <td>0.14</td>\n",
       "    </tr>\n",
       "    <tr>\n",
       "      <th>4</th>\n",
       "      <td>Houkago Shounen</td>\n",
       "      <td>DS</td>\n",
       "      <td>2008.0</td>\n",
       "      <td>Misc</td>\n",
       "      <td>Konami Digital Entertainment</td>\n",
       "      <td>0.00</td>\n",
       "      <td>0.00</td>\n",
       "      <td>0.05</td>\n",
       "      <td>0.05</td>\n",
       "    </tr>\n",
       "  </tbody>\n",
       "</table>\n",
       "</div>"
      ],
      "text/plain": [
       "                       name platform    year       genre  \\\n",
       "0  Imagine: Fashion Stylist       DS  2010.0  Simulation   \n",
       "1       Monsters vs. Aliens      Wii  2009.0      Action   \n",
       "2               LEGO Racers       PS  1999.0      Racing   \n",
       "3              The X-Factor      PS3  2010.0        Misc   \n",
       "4           Houkago Shounen       DS  2008.0        Misc   \n",
       "\n",
       "                      publisher  north_america_sales  europe_sales  \\\n",
       "0                       Ubisoft                 0.13          0.00   \n",
       "1                    Activision                 0.14          0.09   \n",
       "2                    LEGO Media                 0.20          0.14   \n",
       "3                   Deep Silver                 0.00          0.10   \n",
       "4  Konami Digital Entertainment                 0.00          0.00   \n",
       "\n",
       "   japan_sales  global_sales  \n",
       "0         0.00          0.14  \n",
       "1         0.00          0.26  \n",
       "2         0.00          0.36  \n",
       "3         0.00          0.14  \n",
       "4         0.05          0.05  "
      ]
     },
     "execution_count": 4,
     "metadata": {},
     "output_type": "execute_result"
    }
   ],
   "source": [
    "# Insert your code below\n",
    "# ======================\n",
    "raw_df.head(5)"
   ]
  },
  {
   "cell_type": "markdown",
   "metadata": {},
   "source": [
    "__3. How many unique values exist in each of the columns `genre` and `publisher`?__"
   ]
  },
  {
   "cell_type": "code",
   "execution_count": 5,
   "metadata": {
    "ExecuteTime": {
     "end_time": "2021-01-07T12:50:25.742120Z",
     "start_time": "2021-01-07T12:50:25.738880Z"
    }
   },
   "outputs": [
    {
     "name": "stdout",
     "output_type": "stream",
     "text": [
      "Number of unique values of genre:  12 . Number of unique values of publisher:  486\n"
     ]
    }
   ],
   "source": [
    "# Insert your code below\n",
    "# ======================\n",
    "num_genres = raw_df['genre'].nunique(dropna=True) # do not count NaN values\n",
    "num_publisher = raw_df['publisher'].nunique(dropna=True) # do not count NaN values\n",
    "print('Number of unique values of genre: ', num_genres, \n",
    "      '. Number of unique values of publisher: ', num_publisher)"
   ]
  },
  {
   "cell_type": "markdown",
   "metadata": {},
   "source": [
    "__4. Identify missing (NaN) values in the dataset__"
   ]
  },
  {
   "cell_type": "code",
   "execution_count": 6,
   "metadata": {
    "ExecuteTime": {
     "end_time": "2021-01-07T12:50:27.808635Z",
     "start_time": "2021-01-07T12:50:27.804298Z"
    }
   },
   "outputs": [
    {
     "data": {
      "text/plain": [
       "True"
      ]
     },
     "execution_count": 6,
     "metadata": {},
     "output_type": "execute_result"
    }
   ],
   "source": [
    "# Insert your code below\n",
    "# ======================\n",
    "raw_df.isnull().values.any() # check if there is any nan values, True, find where"
   ]
  },
  {
   "cell_type": "code",
   "execution_count": 7,
   "metadata": {},
   "outputs": [
    {
     "data": {
      "text/plain": [
       "name                   False\n",
       "platform               False\n",
       "year                   False\n",
       "genre                  False\n",
       "publisher               True\n",
       "north_america_sales    False\n",
       "europe_sales           False\n",
       "japan_sales            False\n",
       "global_sales           False\n",
       "dtype: bool"
      ]
     },
     "execution_count": 7,
     "metadata": {},
     "output_type": "execute_result"
    }
   ],
   "source": [
    "raw_df.isnull().any() #which column has nan values."
   ]
  },
  {
   "cell_type": "markdown",
   "metadata": {},
   "source": [
    "We saw from the command above that the column 'publisher' is the only column that contains nan values. Let us see which rows of publisher (id) has nan values."
   ]
  },
  {
   "cell_type": "code",
   "execution_count": 11,
   "metadata": {},
   "outputs": [
    {
     "data": {
      "text/plain": [
       "[159,\n",
       " 173,\n",
       " 370,\n",
       " 1359,\n",
       " 2075,\n",
       " 2211,\n",
       " 2417,\n",
       " 3161,\n",
       " 3240,\n",
       " 4973,\n",
       " 5190,\n",
       " 5474,\n",
       " 5564,\n",
       " 5808,\n",
       " 5956,\n",
       " 6393,\n",
       " 8075,\n",
       " 8123,\n",
       " 8786,\n",
       " 9159,\n",
       " 9641,\n",
       " 10509,\n",
       " 10552,\n",
       " 10672,\n",
       " 11435,\n",
       " 11504,\n",
       " 11949]"
      ]
     },
     "execution_count": 11,
     "metadata": {},
     "output_type": "execute_result"
    }
   ],
   "source": [
    "nan_values_publisher = list(raw_df[raw_df['publisher'].isnull()].index)\n",
    "nan_values_publisher"
   ]
  },
  {
   "cell_type": "markdown",
   "metadata": {},
   "source": [
    "__5. Create a copy of `raw_df` named `df`. Remove any rows containing NaN values in the new dataframe. What is the shape of `df` before and after removing the NaN values?__"
   ]
  },
  {
   "cell_type": "code",
   "execution_count": 12,
   "metadata": {
    "ExecuteTime": {
     "end_time": "2021-01-07T12:50:30.914114Z",
     "start_time": "2021-01-07T12:50:30.910486Z"
    }
   },
   "outputs": [
    {
     "data": {
      "text/plain": [
       "(12441, 9)"
      ]
     },
     "execution_count": 12,
     "metadata": {},
     "output_type": "execute_result"
    }
   ],
   "source": [
    "# Insert your code below\n",
    "# ======================\n",
    "df = raw_df.copy()\n",
    "df.shape # shape before removing rows with nan values"
   ]
  },
  {
   "cell_type": "code",
   "execution_count": 13,
   "metadata": {},
   "outputs": [
    {
     "data": {
      "text/plain": [
       "(12414, 9)"
      ]
     },
     "execution_count": 13,
     "metadata": {},
     "output_type": "execute_result"
    }
   ],
   "source": [
    "df = df.drop(nan_values_publisher)\n",
    "df.shape # shape after dropping rows with nan values"
   ]
  },
  {
   "cell_type": "markdown",
   "metadata": {},
   "source": [
    "The number of rows were reduced from 12441 to 12414 when dropping NaN values."
   ]
  },
  {
   "cell_type": "markdown",
   "metadata": {},
   "source": [
    "__6. Which `platform`, `genre` and `publisher` is the most popular (by number of instances) of all time? Print the name and count of each__\n",
    "\n",
    "Hint: The output should look something like this:\n",
    "```python\n",
    "Column: [col], Most popular: [name], Count: [count]\n",
    "Column: [col], Most popular: [name], Count: [count]\n",
    "Column: [col], Most popular: [name], Count: [count]\n",
    "```"
   ]
  },
  {
   "cell_type": "code",
   "execution_count": 21,
   "metadata": {
    "ExecuteTime": {
     "end_time": "2021-01-07T12:50:33.942168Z",
     "start_time": "2021-01-07T12:50:33.938350Z"
    }
   },
   "outputs": [
    {
     "name": "stdout",
     "output_type": "stream",
     "text": [
      "Column:  platform , Most popular:  PS2 , Count:  2120\n",
      "Column:  genre , Most popular:  Action , Count:  2039\n",
      "Column:  publisher , Most popular:  Electronic Arts , Count:  1087\n"
     ]
    }
   ],
   "source": [
    "# Insert your code below\n",
    "# ======================\n",
    "columns = ['platform', 'genre', 'publisher']\n",
    "for column in columns:\n",
    "    pop = df[column].value_counts().idxmax()\n",
    "    count = df[df[column]==pop].shape[0]\n",
    "    print('Column: ', column, ', Most popular: ', pop, ', Count: ', count)\n"
   ]
  },
  {
   "cell_type": "markdown",
   "metadata": {},
   "source": [
    "__7. What is the most popular game for each region? E.g. North America, Europe and Japan and globally__"
   ]
  },
  {
   "cell_type": "code",
   "execution_count": 27,
   "metadata": {
    "ExecuteTime": {
     "end_time": "2021-01-07T12:50:36.602399Z",
     "start_time": "2021-01-07T12:50:36.598962Z"
    }
   },
   "outputs": [
    {
     "name": "stdout",
     "output_type": "stream",
     "text": [
      " North Americas most popular game:  Wii Sports \n",
      " Europes most popular game:  Wii Sports \n",
      " Japans most popular game:  Pokemon Red/Pokemon Blue \n",
      " The most popular game globally:  Wii Sports\n"
     ]
    }
   ],
   "source": [
    "# Insert your code below\n",
    "# ======================\n",
    "# We first find the row number of the most popular game in each region:\n",
    "game_id_north_america = df['north_america_sales'].idxmax() \n",
    "game_id_europe = df['europe_sales'].idxmax()\n",
    "game_id_japan = df['japan_sales'].idxmax()\n",
    "game_id_global = df['global_sales'].idxmax()\n",
    "\n",
    "# We then find the name of the most popular game in each region:\n",
    "game_north_america = df.loc[game_id_north_america, 'name']\n",
    "game_europe = df.loc[game_id_europe, 'name']\n",
    "game_japan = df.loc[game_id_japan, 'name']\n",
    "game_global = df.loc[game_id_global, 'name']\n",
    "\n",
    "print(' North Americas most popular game: ',game_north_america,\n",
    "      '\\n Europes most popular game: ', game_europe, \n",
    "      '\\n Japans most popular game: ', game_japan,\n",
    "     '\\n The most popular game globally: ',game_global)"
   ]
  },
  {
   "cell_type": "markdown",
   "metadata": {},
   "source": [
    "__8. Create a new dataframe called `df_pokemon` containing all games with \"pokemon\" in the `name`__\n",
    "\n",
    "Hint: Make sure your filtering is NOT case-sensitive\n",
    "\n",
    "        a. What is the most-sold (globally) Pokemon game of all time?\n",
    "        b. How many Pokemon-games are in the dataset?"
   ]
  },
  {
   "cell_type": "code",
   "execution_count": 28,
   "metadata": {
    "ExecuteTime": {
     "end_time": "2021-01-07T12:50:39.438027Z",
     "start_time": "2021-01-07T12:50:39.435878Z"
    }
   },
   "outputs": [],
   "source": [
    "# Insert your code below\n",
    "# ======================\n",
    "# Assume we are going to filter the df dataframe, not raw_df.\n",
    "import re # need this to ignore case\n",
    "data = df[df['name'].str.contains('pokemon',flags=re.IGNORECASE)]\n",
    "df_pokemon = pd.DataFrame(data)"
   ]
  },
  {
   "cell_type": "markdown",
   "metadata": {},
   "source": [
    "To find the most sold pokemon game globally we find the max in the column 'global_sales' in df_pokemon which gives us index, then find name of this game."
   ]
  },
  {
   "cell_type": "code",
   "execution_count": 29,
   "metadata": {},
   "outputs": [
    {
     "name": "stdout",
     "output_type": "stream",
     "text": [
      "The most popular pokemon game globally is  Pokemon Red/Pokemon Blue\n"
     ]
    }
   ],
   "source": [
    "pokemon_id = df_pokemon['global_sales'].idxmax()\n",
    "pokemon_name = df_pokemon.loc[pokemon_id, 'name']\n",
    "print('The most popular pokemon game globally is ',pokemon_name)"
   ]
  },
  {
   "cell_type": "markdown",
   "metadata": {},
   "source": [
    "To find how many pokemon games are in the dataset we find the number of unique names in df_pokemon. Which is the same as number of rows in the dataset."
   ]
  },
  {
   "cell_type": "code",
   "execution_count": 30,
   "metadata": {},
   "outputs": [
    {
     "data": {
      "text/plain": [
       "25"
      ]
     },
     "execution_count": 30,
     "metadata": {},
     "output_type": "execute_result"
    }
   ],
   "source": [
    "num_pokemon_games = len(df_pokemon['name'].unique())\n",
    "num_pokemon_games"
   ]
  },
  {
   "cell_type": "markdown",
   "metadata": {},
   "source": [
    "---\n",
    "\n",
    "## Visualizing the dataset"
   ]
  },
  {
   "cell_type": "markdown",
   "metadata": {},
   "source": [
    "__9. Create plot with 2 vertical axes and one horizontal axes. The plot should display a barchart containing the `count` of the `10 most frequent` genres and platforms, each in its own subplot. The bars should be sorted in descending order.__\n",
    "\n",
    "Hint: It is recommended to use the `Barplot` function built into Seaborn for barcharts.\n",
    "\n",
    "The output should look something like this:\n",
    "\n",
    "<img src=\"barchart.png\"\n",
    "     alt=\"Barchart example\"\n",
    "     style=\"width: 500px; margin-left: 0\" />\n",
    "\n",
    "PS: Disregard the color scheme of the example image."
   ]
  },
  {
   "cell_type": "code",
   "execution_count": 38,
   "metadata": {
    "ExecuteTime": {
     "end_time": "2021-01-07T12:50:42.254889Z",
     "start_time": "2021-01-07T12:50:42.251985Z"
    }
   },
   "outputs": [
    {
     "data": {
      "text/plain": [
       "<AxesSubplot:title={'center':'Platform'}>"
      ]
     },
     "execution_count": 38,
     "metadata": {},
     "output_type": "execute_result"
    },
    {
     "data": {
      "image/png": "[encoded data removed]",
      "text/plain": [
       "<Figure size 720x576 with 2 Axes>"
      ]
     },
     "metadata": {
      "needs_background": "light"
     },
     "output_type": "display_data"
    }
   ],
   "source": [
    "# Insert your code below\n",
    "# ======================\n",
    "# 10 most frequent genre in descending order\n",
    "frequent_genre = list(df['genre'].value_counts()[:10].index)\n",
    "# their counts\n",
    "genre_counts = list(df['genre'].value_counts()[:10])\n",
    "#10 most frequent platform in descending order\n",
    "frequent_platform = list(df['platform'].value_counts()[:10].index)\n",
    "#their counts\n",
    "platform_counts = list(df['platform'].value_counts()[:10])\n",
    "\n",
    "# plot\n",
    "fig, axs = plt.subplots(2, figsize=(10,8))\n",
    "axs[0].set_title('Genre')\n",
    "sns.barplot(ax=axs[0], x=frequent_genre, y=genre_counts)\n",
    "axs[1].set_title('Platform')\n",
    "sns.barplot(ax=axs[1],x=frequent_platform, y=platform_counts)\n"
   ]
  },
  {
   "cell_type": "markdown",
   "metadata": {},
   "source": [
    "__10. Group sales in `df` for the four different regions _by year_ into a new dataframe; `yearly_sales`__\n",
    "\n",
    "Hint: Sales should be aggregated by the `sum` of all sales within the year.\n",
    "\n",
    "The first five rows of the new dataframe should look like this:\n",
    "\n",
    "\n",
    "<img src=\"yearly_sales_head.png\"\n",
    "     alt=\"First five rows of aggregated sales data\"\n",
    "     style=\"width: 500px; margin-left: 0\" />\n"
   ]
  },
  {
   "cell_type": "code",
   "execution_count": 41,
   "metadata": {
    "ExecuteTime": {
     "end_time": "2021-01-07T12:50:45.145160Z",
     "start_time": "2021-01-07T12:50:45.142274Z"
    }
   },
   "outputs": [],
   "source": [
    "# Insert your code below\n",
    "# ======================\n",
    "grouped_df = df.groupby(df['year']).agg(list)"
   ]
  },
  {
   "cell_type": "code",
   "execution_count": 43,
   "metadata": {
    "ExecuteTime": {
     "end_time": "2021-01-07T12:50:45.145160Z",
     "start_time": "2021-01-07T12:50:45.142274Z"
    }
   },
   "outputs": [
    {
     "data": {
      "text/html": [
       "<div>\n",
       "<style scoped>\n",
       "    .dataframe tbody tr th:only-of-type {\n",
       "        vertical-align: middle;\n",
       "    }\n",
       "\n",
       "    .dataframe tbody tr th {\n",
       "        vertical-align: top;\n",
       "    }\n",
       "\n",
       "    .dataframe thead th {\n",
       "        text-align: right;\n",
       "    }\n",
       "</style>\n",
       "<table border=\"1\" class=\"dataframe\">\n",
       "  <thead>\n",
       "    <tr style=\"text-align: right;\">\n",
       "      <th></th>\n",
       "      <th>north_america_sales</th>\n",
       "      <th>europe_sales</th>\n",
       "      <th>japan_sales</th>\n",
       "      <th>global_sales</th>\n",
       "    </tr>\n",
       "    <tr>\n",
       "      <th>year</th>\n",
       "      <th></th>\n",
       "      <th></th>\n",
       "      <th></th>\n",
       "      <th></th>\n",
       "    </tr>\n",
       "  </thead>\n",
       "  <tbody>\n",
       "    <tr>\n",
       "      <th>1980.0</th>\n",
       "      <td>10.59</td>\n",
       "      <td>0.67</td>\n",
       "      <td>0.00</td>\n",
       "      <td>11.38</td>\n",
       "    </tr>\n",
       "    <tr>\n",
       "      <th>1981.0</th>\n",
       "      <td>33.40</td>\n",
       "      <td>1.96</td>\n",
       "      <td>0.00</td>\n",
       "      <td>35.77</td>\n",
       "    </tr>\n",
       "    <tr>\n",
       "      <th>1982.0</th>\n",
       "      <td>26.92</td>\n",
       "      <td>1.65</td>\n",
       "      <td>0.00</td>\n",
       "      <td>28.86</td>\n",
       "    </tr>\n",
       "    <tr>\n",
       "      <th>1983.0</th>\n",
       "      <td>7.76</td>\n",
       "      <td>0.80</td>\n",
       "      <td>8.10</td>\n",
       "      <td>16.79</td>\n",
       "    </tr>\n",
       "    <tr>\n",
       "      <th>1984.0</th>\n",
       "      <td>33.28</td>\n",
       "      <td>2.10</td>\n",
       "      <td>14.27</td>\n",
       "      <td>50.36</td>\n",
       "    </tr>\n",
       "  </tbody>\n",
       "</table>\n",
       "</div>"
      ],
      "text/plain": [
       "        north_america_sales  europe_sales  japan_sales  global_sales\n",
       "year                                                                \n",
       "1980.0                10.59          0.67         0.00         11.38\n",
       "1981.0                33.40          1.96         0.00         35.77\n",
       "1982.0                26.92          1.65         0.00         28.86\n",
       "1983.0                 7.76          0.80         8.10         16.79\n",
       "1984.0                33.28          2.10        14.27         50.36"
      ]
     },
     "execution_count": 43,
     "metadata": {},
     "output_type": "execute_result"
    }
   ],
   "source": [
    "# set the index of yearly_saels to be the year. \n",
    "yearly_sales = pd.DataFrame(index=grouped_df.index)\n",
    "# let the values of the columns *_sales be the sum of all sales that year.\n",
    "yearly_sales['north_america_sales'] = [sum(x) for x in grouped_df['north_america_sales']]\n",
    "yearly_sales['europe_sales'] = [sum(x) for x in grouped_df['europe_sales']]\n",
    "yearly_sales['japan_sales'] = [sum(x) for x in grouped_df['japan_sales']]\n",
    "yearly_sales['global_sales'] = [sum(x) for x in grouped_df['global_sales']]\n",
    "yearly_sales.head()"
   ]
  },
  {
   "cell_type": "markdown",
   "metadata": {},
   "source": [
    "__11. Create a correlation matrix (based on the aggregated sales data) and plot it as a heatmap using Seaborn. What does the plot tell you about correlation between sales in the given regions?__"
   ]
  },
  {
   "cell_type": "code",
   "execution_count": 44,
   "metadata": {
    "ExecuteTime": {
     "end_time": "2021-01-07T12:50:47.212325Z",
     "start_time": "2021-01-07T12:50:47.208708Z"
    }
   },
   "outputs": [
    {
     "data": {
      "text/plain": [
       "<AxesSubplot:>"
      ]
     },
     "execution_count": 44,
     "metadata": {},
     "output_type": "execute_result"
    },
    {
     "data": {
      "image/png": "[encoded data removed]",
      "text/plain": [
       "<Figure size 432x288 with 2 Axes>"
      ]
     },
     "metadata": {
      "needs_background": "light"
     },
     "output_type": "display_data"
    }
   ],
   "source": [
    "# Insert your code below\n",
    "# ======================\n",
    "correlations = yearly_sales.corr()\n",
    "sns.heatmap(correlations)"
   ]
  },
  {
   "cell_type": "markdown",
   "metadata": {},
   "source": [
    "We can see the amount of correlation between the markets in north america, europe, japan and globally by examining the colors of the heatmap above. The correlation between all the markets except from the one in Japan are highly correlated, correlation is close to 1 (between 0.975 and 1). The market in Japan seems to be more independent from the others as the correlation is lower, however there is still a high correlation (more than 0.8). "
   ]
  },
  {
   "cell_type": "markdown",
   "metadata": {},
   "source": [
    "__12. Create a lineplot showing sales per year for all four regions over the entire period__\n",
    "\n",
    "The end result should look something like this:\n",
    "\n",
    "<img src=\"yearly_sales_linechart.png\"\n",
    "     alt=\"Lineplot showing evolution in videogame sales for all four regions\"\n",
    "     style=\"width: 500px; margin-left: 0\" />\n"
   ]
  },
  {
   "cell_type": "code",
   "execution_count": 45,
   "metadata": {},
   "outputs": [
    {
     "data": {
      "text/plain": [
       "<AxesSubplot:xlabel='year'>"
      ]
     },
     "execution_count": 45,
     "metadata": {},
     "output_type": "execute_result"
    },
    {
     "data": {
      "image/png": "[encoded data removed]",
      "text/plain": [
       "<Figure size 432x288 with 1 Axes>"
      ]
     },
     "metadata": {},
     "output_type": "display_data"
    }
   ],
   "source": [
    "sns.set_style('whitegrid')\n",
    "sns.lineplot(data=yearly_sales, dashes=False)"
   ]
  },
  {
   "cell_type": "markdown",
   "metadata": {},
   "source": [
    "___"
   ]
  }
 ],
 "metadata": {
  "kernelspec": {
   "display_name": "Python 3",
   "language": "python",
   "name": "python3"
  },
  "language_info": {
   "codemirror_mode": {
    "name": "ipython",
    "version": 3
   },
   "file_extension": ".py",
   "mimetype": "text/x-python",
   "name": "python",
   "nbconvert_exporter": "python",
   "pygments_lexer": "ipython3",
   "version": "3.8.8"
  },
  "toc": {
   "base_numbering": 1,
   "nav_menu": {},
   "number_sections": true,
   "sideBar": true,
   "skip_h1_title": false,
   "title_cell": "Table of Contents",
   "title_sidebar": "Contents",
   "toc_cell": false,
   "toc_position": {},
   "toc_section_display": true,
   "toc_window_display": false
  },
  "varInspector": {
   "cols": {
    "lenName": 16,
    "lenType": 16,
    "lenVar": 40
   },
   "kernels_config": {
    "python": {
     "delete_cmd_postfix": "",
     "delete_cmd_prefix": "del ",
     "library": "var_list.py",
     "varRefreshCmd": "print(var_dic_list())"
    },
    "r": {
     "delete_cmd_postfix": ") ",
     "delete_cmd_prefix": "rm(",
     "library": "var_list.r",
     "varRefreshCmd": "cat(var_dic_list()) "
    }
   },
   "types_to_exclude": [
    "module",
    "function",
    "builtin_function_or_method",
    "instance",
    "_Feature"
   ],
   "window_display": false
  }
 },
 "nbformat": 4,
 "nbformat_minor": 4
}
